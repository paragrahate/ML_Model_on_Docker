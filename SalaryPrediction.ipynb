import pandas as pd
data = pd.read_csv("SalaryData.csv")
x = data['YearsExperience'].values
x = x.reshape(-1,1)
y = data['Salary']
from sklearn.linear_model import LinearRegression 
mind = LinearRegression()
model = mind.fit(x,y)
while(True):
    exp = input("                   Enter Your Years of Experience: ")
    exp = float(exp)
    if exp < 0 :
        print("Invalid Entry")
        break
    prediction = model.predict([[exp]])
    print("\n                       Your Salary:", prediction ,)
    if input("\n                      Do You Want To Continue[y,n]? ") != 'y':
        break